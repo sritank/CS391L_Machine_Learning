{
 "cells": [
  {
   "cell_type": "code",
   "execution_count": 1,
   "metadata": {},
   "outputs": [],
   "source": [
    "import csv\n",
    "import struct as st\n",
    "import numpy as np\n",
    "import keyboard\n",
    "import idx2numpy\n",
    "from PIL import Image\n",
    "from numpy import linalg as LA\n",
    "from numpy import matlib\n",
    "import sounddevice as sd\n",
    "import pickle as pkl\n",
    "import ipdb;\n",
    "from scipy.io import loadmat;\n",
    "from IPython.display import Audio\n",
    "import matplotlib.pyplot as plt\n",
    "import random\n",
    "import sys\n"
   ]
  },
  {
   "cell_type": "markdown",
   "metadata": {},
   "source": [
    "Defining the activation function and it's derivative (Sigmoid in this case)"
   ]
  },
  {
   "cell_type": "code",
   "execution_count": 2,
   "metadata": {},
   "outputs": [],
   "source": [
    "alpha=1;\n",
    "def actFcn(u):\n",
    "    return (1/(1+np.exp(-alpha*u)))\n",
    "\n",
    "\n",
    "def actFcnDer(u):\n",
    "    return (alpha*np.exp(-alpha*u)/(1+np.exp(-alpha*u))**2)"
   ]
  },
  {
   "cell_type": "markdown",
   "metadata": {},
   "source": [
    "Defining the Feedforward function assuming just one hidden layer"
   ]
  },
  {
   "cell_type": "code",
   "execution_count": 3,
   "metadata": {},
   "outputs": [],
   "source": [
    "def feedForward(u1,W2,W3):\n",
    "    act2 = actFcn(W2.dot(u1)).reshape(-1,1);\n",
    "    # ipdb.set_trace();\n",
    "    act2_b = np.vstack([np.ones((1,act2.shape[1])), act2])\n",
    "    return(actFcn(W3.dot(act2_b)));"
   ]
  },
  {
   "cell_type": "markdown",
   "metadata": {},
   "source": [
    "Reading training and test data"
   ]
  },
  {
   "cell_type": "code",
   "execution_count": 4,
   "metadata": {},
   "outputs": [],
   "source": [
    "train_img = idx2numpy.convert_from_file('train-images-idx3-ubyte');\n",
    "test_img = idx2numpy.convert_from_file('t10k-images-idx3-ubyte');\n",
    "train_lab = idx2numpy.convert_from_file('train-labels-idx1-ubyte');\n",
    "test_lab = idx2numpy.convert_from_file('t10k-labels-idx1-ubyte');\n",
    "L_train = train_img.shape[0];\n",
    "L_test = test_img.shape[0];\n",
    "train_img = train_img.reshape(L_train,28*28)/255; #Normalizing pixels from 255 -> 1\n",
    "test_img = test_img.reshape(L_test,28*28)/255; #Normalizing pixels from 255 -> 1\n",
    "train_img_input = np.vstack([np.ones((1,L_train)), train_img.T]);\n",
    "test_img_input = np.vstack([np.ones((1,L_test)), test_img.T]);\n",
    "train_lab = train_lab.reshape(-1,1)\n",
    "n1 = train_img.shape[1];\n",
    "n3=10;\n",
    "train_lab_vec = np.zeros(L_train*n3);\n",
    "cols = np.arange(0,L_train,1);\n",
    "cols = cols.reshape(-1,1);\n",
    "train_lab_vec[10*cols + train_lab]=1;\n",
    "train_lab_vec = (train_lab_vec.reshape(L_train,n3)).transpose();"
   ]
  },
  {
   "cell_type": "markdown",
   "metadata": {},
   "source": [
    "Initializing Weigths and number of neurons in diff. layers of network"
   ]
  },
  {
   "cell_type": "code",
   "execution_count": 5,
   "metadata": {},
   "outputs": [
    {
     "name": "stdout",
     "output_type": "stream",
     "text": [
      "MSE on training data =  0.08606243713537846\n",
      "MSE on training data =  0.07247179819453621\n",
      "MSE on training data =  0.060949775313453046\n",
      "MSE on training data =  0.0525809625616623\n",
      "MSE on training data =  0.04298464565285567\n",
      "MSE on training data =  0.04037104673579837\n",
      "MSE on training data =  0.03974540761202765\n",
      "MSE on training data =  0.03946189306323157\n",
      "MSE on training data =  0.03927977128181762\n",
      "MSE on training data =  0.039146606024342646\n",
      "Prediction acc. on test data for 3 neurons =  7141\n",
      "MSE on training data =  0.07304093148244363\n",
      "MSE on training data =  0.02719490234637893\n",
      "MSE on training data =  0.019405643004174685\n",
      "MSE on training data =  0.017559022092224773\n",
      "MSE on training data =  0.016639379541342585\n",
      "MSE on training data =  0.016015314530340555\n",
      "MSE on training data =  0.015548074084276498\n",
      "MSE on training data =  0.01518652363340921\n",
      "MSE on training data =  0.014893646301694815\n",
      "MSE on training data =  0.0146490303986483\n",
      "Prediction acc. on test data for 7 neurons =  9032\n",
      "MSE on training data =  0.04919971467070327\n",
      "MSE on training data =  0.01593942002422285\n",
      "MSE on training data =  0.013636208558910309\n",
      "MSE on training data =  0.012647781961646414\n",
      "MSE on training data =  0.0120412346486871\n",
      "MSE on training data =  0.011615090020207415\n",
      "MSE on training data =  0.011279785021422996\n",
      "MSE on training data =  0.011003492082175869\n",
      "MSE on training data =  0.010766151195424588\n",
      "MSE on training data =  0.010557920003678146\n",
      "Prediction acc. on test data for 11 neurons =  9273\n",
      "MSE on training data =  0.044654678081973896\n",
      "MSE on training data =  0.01507568138635979\n",
      "MSE on training data =  0.012668441242035679\n",
      "MSE on training data =  0.01156823226109629\n",
      "MSE on training data =  0.010866119664498105\n",
      "MSE on training data =  0.01037317084230423\n",
      "MSE on training data =  0.00999079346715822\n",
      "MSE on training data =  0.009680897222271\n",
      "MSE on training data =  0.009423083649355008\n",
      "MSE on training data =  0.009204726060617868\n",
      "Prediction acc. on test data for 15 neurons =  9363\n",
      "MSE on training data =  0.03930824873377453\n",
      "MSE on training data =  0.013382212925134248\n",
      "MSE on training data =  0.011474046515540948\n",
      "MSE on training data =  0.01050394552944802\n",
      "MSE on training data =  0.009846211775705029\n",
      "MSE on training data =  0.009352846961429767\n",
      "MSE on training data =  0.008966326426345414\n",
      "MSE on training data =  0.008654244805312518\n",
      "MSE on training data =  0.008391544791776971\n",
      "MSE on training data =  0.008164191381124859\n",
      "Prediction acc. on test data for 19 neurons =  9428\n",
      "MSE on training data =  0.037109759473498004\n",
      "MSE on training data =  0.01298309495365721\n",
      "MSE on training data =  0.010976635898493667\n",
      "MSE on training data =  0.009904988552627829\n",
      "MSE on training data =  0.009217368053278753\n",
      "MSE on training data =  0.008719543869317531\n",
      "MSE on training data =  0.008328304153111964\n",
      "MSE on training data =  0.00801022639524923\n",
      "MSE on training data =  0.007744243505085554\n",
      "MSE on training data =  0.007515095931548646\n",
      "Prediction acc. on test data for 23 neurons =  9476\n"
     ]
    }
   ],
   "source": [
    "eta=5e-2;\n",
    "tol = 6e-3;\n",
    "err_cum_arr = 0;\n",
    "pred_acc_arr = 0;\n",
    "maxIter=10\n",
    "iterMax=10\n",
    "n_start=3;\n",
    "n_end=27;\n",
    "n_inc = 4;\n",
    "for n2 in np.arange(n_start,n_end,n_inc):\n",
    "    W2_b = np.random.rand(n2, n1+1)*1e-2;\n",
    "    W2 = W2_b[:,1:];\n",
    "    W3_b = np.random.rand(n3, n2+1)*1e-2;\n",
    "    W3 = W3_b[:,1:];\n",
    "    err_cum = tol*1e3;\n",
    "    train_samples = 60000;\n",
    "    test_samples = 10000;\n",
    "    iter=0;\n",
    "    while err_cum>tol and iter<iterMax:\n",
    "        iter = iter+1;\n",
    "        err_cum = 0.0;\n",
    "        for i in range(0,train_samples):\n",
    "            Delta2 = W2_b*0.0;\n",
    "            Delta3 = W3_b*0.0;\n",
    "            z2 = W2_b.dot(train_img_input[:,i].reshape(-1,1));\n",
    "            z2_b = np.vstack([np.ones((1,z2.shape[1])), z2]);\n",
    "            a2 = actFcn(z2);\n",
    "            a2_b = np.vstack([np.ones((1,a2.shape[1])), a2]);\n",
    "\n",
    "            z3 = W3_b.dot(a2_b);\n",
    "            a3 = actFcn(z3);\n",
    "\n",
    "            delta3 = np.multiply(a3 - train_lab_vec[:,i].reshape(-1,1),actFcnDer(z3))#if using MSE cost function\n",
    "            # delta3 = -(train_lab_vec[:,i].reshape(-1,1) - a3);#if using log cost function from Andrew Ng\n",
    "\n",
    "            delta2 = np.multiply(W3_b.T.dot(delta3), actFcnDer(z2_b));\n",
    "            delta2 = np.delete(delta2,0,0);\n",
    "\n",
    "            d3 = delta3.reshape(-1,1);\n",
    "            # ipdb.set_trace()\n",
    "            a2_b_vec = a2_b.reshape(-1,1);\n",
    "            Delta3 = Delta3 + d3.dot(a2_b_vec.T);\n",
    "            # ipdb.set_trace()\n",
    "\n",
    "            d2 = delta2.reshape(-1,1);\n",
    "            a1_b_vec = train_img_input[:,i].reshape(-1,1);\n",
    "            # Delta2 = Delta2 + d2.dot(a1_b_vec.T)/train_samples;#if using cumulative grad descent\n",
    "            Delta2 = Delta2 + d2.dot(a1_b_vec.T);#if using stochastic grad descent\n",
    "            # err_cum = err_cum + np.mean(np.multiply(delta3,delta3));#if using log cost function from Andrew Ng\n",
    "            W3_b = W3_b - eta*Delta3;\n",
    "            W2_b = W2_b - eta*Delta2;\n",
    "            err_cum = err_cum + np.mean(np.multiply((train_lab_vec[:,i].reshape(-1,1) - a3),(train_lab_vec[:,i].reshape(-1,1) - a3)));#if using MSE cost function\n",
    "        err_cum = err_cum/train_samples;\n",
    "#         err_cum_arr = np.vstack([err_cum_arr,err_cum]);\n",
    "        print(\"MSE on training data = \",err_cum)\n",
    "    correct_pred_test=0;\n",
    "    for i in range(0,test_samples):\n",
    "        predicted_label = np.argmax(feedForward(test_img_input[:,i],W2_b,W3_b));\n",
    "        actual_label = test_lab[i];\n",
    "        if actual_label==predicted_label:\n",
    "            correct_pred_test = correct_pred_test + 1;\n",
    "    pred_acc_arr = np.vstack([pred_acc_arr, correct_pred_test]);\n",
    "    print(\"Prediction acc. on test data for\",n2,\"neurons = \",correct_pred_test)\n",
    "pred_acc_arr = np.delete(pred_acc_arr,0,0)#remove first dummy entry    "
   ]
  },
  {
   "cell_type": "markdown",
   "metadata": {},
   "source": [
    "Calculating prediction accuracy"
   ]
  },
  {
   "cell_type": "code",
   "execution_count": 6,
   "metadata": {},
   "outputs": [
    {
     "data": {
      "image/png": "[encoded data removed]",
      "text/plain": [
       "<Figure size 432x288 with 1 Axes>"
      ]
     },
     "metadata": {
      "needs_background": "light"
     },
     "output_type": "display_data"
    }
   ],
   "source": [
    "plt.rcParams.update({'font.size':17})\n",
    "plt.rcParams.update({'savefig.dpi':600})\n",
    "plt.plot(np.array(np.arange(n_start,n_end,n_inc).T), pred_acc_arr/test_samples*100,'o-k')\n",
    "plt.xlabel('Neurons in hidden layer')\n",
    "plt.ylabel('Prediction acc.,%')\n",
    "plt.title(str(train_samples) +' training samples')\n",
    "plt.tight_layout()\n",
    "plt.savefig('./pred_err_var_neurons.png')\n",
    "plt.show()\n",
    "plt.close()"
   ]
  },
  {
   "cell_type": "code",
   "execution_count": null,
   "metadata": {},
   "outputs": [],
   "source": []
  },
  {
   "cell_type": "code",
   "execution_count": null,
   "metadata": {},
   "outputs": [],
   "source": []
  }
 ],
 "metadata": {
  "kernelspec": {
   "display_name": "Python 3",
   "language": "python",
   "name": "python3"
  },
  "language_info": {
   "codemirror_mode": {
    "name": "ipython",
    "version": 3
   },
   "file_extension": ".py",
   "mimetype": "text/x-python",
   "name": "python",
   "nbconvert_exporter": "python",
   "pygments_lexer": "ipython3",
   "version": "3.6.9"
  }
 },
 "nbformat": 4,
 "nbformat_minor": 4
}
