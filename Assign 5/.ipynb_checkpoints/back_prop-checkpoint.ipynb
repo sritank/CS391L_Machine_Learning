{
 "cells": [
  {
   "cell_type": "code",
   "execution_count": 1,
   "metadata": {},
   "outputs": [],
   "source": [
    "import csv\n",
    "import struct as st\n",
    "import numpy as np\n",
    "import keyboard\n",
    "import idx2numpy\n",
    "from PIL import Image\n",
    "from numpy import linalg as LA\n",
    "from numpy import matlib\n",
    "import sounddevice as sd\n",
    "import pickle as pkl\n",
    "import ipdb;\n",
    "from scipy.io import loadmat;\n",
    "from IPython.display import Audio\n",
    "import matplotlib.pyplot as plt\n",
    "import random\n",
    "import sys\n"
   ]
  },
  {
   "cell_type": "markdown",
   "metadata": {},
   "source": [
    "Defining the activation function and it's derivative (Sigmoid in this case)"
   ]
  },
  {
   "cell_type": "code",
   "execution_count": 2,
   "metadata": {},
   "outputs": [],
   "source": [
    "alpha=1;\n",
    "def actFcn(u):\n",
    "    return (1/(1+np.exp(-alpha*u)))\n",
    "\n",
    "\n",
    "def actFcnDer(u):\n",
    "    return (alpha*np.exp(-alpha*u)/(1+np.exp(-alpha*u))**2)"
   ]
  },
  {
   "cell_type": "markdown",
   "metadata": {},
   "source": [
    "Defining the Feedforward function assuming just one hidden layer"
   ]
  },
  {
   "cell_type": "code",
   "execution_count": 3,
   "metadata": {},
   "outputs": [],
   "source": [
    "def feedForward(u1,W2,W3):\n",
    "    act2 = actFcn(W2.dot(u1)).reshape(-1,1);\n",
    "    # ipdb.set_trace();\n",
    "    act2_b = np.vstack([np.ones((1,act2.shape[1])), act2])\n",
    "    return(actFcn(W3.dot(act2_b)));"
   ]
  },
  {
   "cell_type": "markdown",
   "metadata": {},
   "source": [
    "Reading training and test data"
   ]
  },
  {
   "cell_type": "code",
   "execution_count": 4,
   "metadata": {},
   "outputs": [],
   "source": [
    "train_img = idx2numpy.convert_from_file('train-images-idx3-ubyte');\n",
    "test_img = idx2numpy.convert_from_file('t10k-images-idx3-ubyte');\n",
    "train_lab = idx2numpy.convert_from_file('train-labels-idx1-ubyte');\n",
    "test_lab = idx2numpy.convert_from_file('t10k-labels-idx1-ubyte');\n",
    "L_train = train_img.shape[0];\n",
    "L_test = test_img.shape[0];\n",
    "train_img = train_img.reshape(L_train,28*28)/255; #Normalizing pixels from 255 -> 1\n",
    "test_img = test_img.reshape(L_test,28*28)/255; #Normalizing pixels from 255 -> 1"
   ]
  },
  {
   "cell_type": "markdown",
   "metadata": {},
   "source": [
    "Initializing Weigths and number of neurons in diff. layers of network"
   ]
  },
  {
   "cell_type": "code",
   "execution_count": 5,
   "metadata": {},
   "outputs": [],
   "source": [
    "n2 = 15;\n",
    "n1 = train_img.shape[1];\n",
    "n3=10;\n",
    "W2_b = np.random.rand(n2, n1+1)*1e-2;\n",
    "W2 = W2_b[:,1:];\n",
    "W3_b = np.random.rand(n3, n2+1)*1e-2;\n",
    "W3 = W3_b[:,1:];"
   ]
  },
  {
   "cell_type": "markdown",
   "metadata": {},
   "source": [
    "Adding bias term to input data"
   ]
  },
  {
   "cell_type": "code",
   "execution_count": 6,
   "metadata": {},
   "outputs": [],
   "source": [
    "train_img_input = np.vstack([np.ones((1,L_train)), train_img.T]);\n",
    "test_img_input = np.vstack([np.ones((1,L_test)), test_img.T]);"
   ]
  },
  {
   "cell_type": "markdown",
   "metadata": {},
   "source": [
    "converting digit label to vector label, i.e 1=[0,1,0,...0]', 5=[0,0,0,0,0,1,0,0,0,0]', etc."
   ]
  },
  {
   "cell_type": "code",
   "execution_count": 7,
   "metadata": {},
   "outputs": [],
   "source": [
    "train_lab = train_lab.reshape(-1,1)\n",
    "train_lab_vec = np.zeros(L_train*n3);\n",
    "cols = np.arange(0,L_train,1);\n",
    "cols = cols.reshape(-1,1);\n",
    "train_lab_vec[10*cols + train_lab]=1;\n",
    "train_lab_vec = (train_lab_vec.reshape(L_train,n3)).transpose();"
   ]
  },
  {
   "cell_type": "markdown",
   "metadata": {},
   "source": [
    "Defining training and test parameters"
   ]
  },
  {
   "cell_type": "code",
   "execution_count": 8,
   "metadata": {},
   "outputs": [],
   "source": [
    "eta=5e-2;\n",
    "tol = 6e-3;\n",
    "err_cum = tol*1e3;\n",
    "err_cum_arr = 0;\n",
    "pred_acc_arr = 0;\n",
    "err_cum_prev=err_cum*1e3;\n",
    "train_samples = 60000;\n",
    "test_samples = 10000;\n",
    "iterMax=80;\n",
    "iter=0;"
   ]
  },
  {
   "cell_type": "markdown",
   "metadata": {},
   "source": [
    "Using Stochastic Gradient Descent"
   ]
  },
  {
   "cell_type": "code",
   "execution_count": 9,
   "metadata": {},
   "outputs": [
    {
     "name": "stdout",
     "output_type": "stream",
     "text": [
      "MSE on training data =  0.04410139346887253\n",
      "Prediction acc. on test data 8992\n",
      "MSE on training data =  0.014886217334185678\n",
      "Prediction acc. on test data 9190\n",
      "MSE on training data =  0.012739255053034089\n",
      "Prediction acc. on test data 9255\n",
      "MSE on training data =  0.011775744448566805\n",
      "Prediction acc. on test data 9291\n",
      "MSE on training data =  0.011174772943359904\n",
      "Prediction acc. on test data 9326\n",
      "MSE on training data =  0.010736119260112987\n",
      "Prediction acc. on test data 9339\n",
      "MSE on training data =  0.010396265605730228\n",
      "Prediction acc. on test data 9355\n",
      "MSE on training data =  0.010121918515633795\n",
      "Prediction acc. on test data 9360\n",
      "MSE on training data =  0.009888915821734179\n",
      "Prediction acc. on test data 9363\n",
      "MSE on training data =  0.009684251163798174\n",
      "Prediction acc. on test data 9372\n",
      "MSE on training data =  0.009496387673193513\n",
      "Prediction acc. on test data 9371\n",
      "MSE on training data =  0.009321250128216363\n",
      "Prediction acc. on test data 9376\n",
      "MSE on training data =  0.009160882929085784\n",
      "Prediction acc. on test data 9383\n",
      "MSE on training data =  0.009015074707082576\n",
      "Prediction acc. on test data 9392\n",
      "MSE on training data =  0.008882014859246005\n",
      "Prediction acc. on test data 9393\n",
      "MSE on training data =  0.008759752510433708\n",
      "Prediction acc. on test data 9394\n",
      "MSE on training data =  0.008646600027347578\n",
      "Prediction acc. on test data 9395\n",
      "MSE on training data =  0.008541222219832513\n",
      "Prediction acc. on test data 9397\n",
      "MSE on training data =  0.008442814020081697\n",
      "Prediction acc. on test data 9398\n",
      "MSE on training data =  0.008348891270171226\n",
      "Prediction acc. on test data 9401\n",
      "MSE on training data =  0.008258021917382414\n",
      "Prediction acc. on test data 9402\n",
      "MSE on training data =  0.008171349122308436\n",
      "Prediction acc. on test data 9399\n",
      "MSE on training data =  0.008089311122577514\n",
      "Prediction acc. on test data 9402\n",
      "MSE on training data =  0.008012291856107967\n",
      "Prediction acc. on test data 9400\n",
      "MSE on training data =  0.007939441336851842\n",
      "Prediction acc. on test data 9397\n",
      "MSE on training data =  0.007869428433716978\n",
      "Prediction acc. on test data 9398\n",
      "MSE on training data =  0.007801486132257165\n",
      "Prediction acc. on test data 9399\n",
      "MSE on training data =  0.007735293766672626\n",
      "Prediction acc. on test data 9403\n",
      "MSE on training data =  0.007671532499098823\n",
      "Prediction acc. on test data 9402\n",
      "MSE on training data =  0.007610462325365053\n",
      "Prediction acc. on test data 9404\n",
      "MSE on training data =  0.0075513775963032\n",
      "Prediction acc. on test data 9398\n",
      "MSE on training data =  0.007494319268948269\n",
      "Prediction acc. on test data 9400\n",
      "MSE on training data =  0.007439662558235\n",
      "Prediction acc. on test data 9404\n",
      "MSE on training data =  0.007387285263075898\n",
      "Prediction acc. on test data 9408\n",
      "MSE on training data =  0.007336103865079047\n",
      "Prediction acc. on test data 9408\n",
      "MSE on training data =  0.007286412551536333\n",
      "Prediction acc. on test data 9410\n",
      "MSE on training data =  0.007239148177807628\n",
      "Prediction acc. on test data 9409\n",
      "MSE on training data =  0.007193320218326079\n",
      "Prediction acc. on test data 9409\n",
      "MSE on training data =  0.007148521917868648\n",
      "Prediction acc. on test data 9411\n",
      "MSE on training data =  0.007105184422987597\n",
      "Prediction acc. on test data 9413\n",
      "MSE on training data =  0.007063314067385811\n",
      "Prediction acc. on test data 9414\n",
      "MSE on training data =  0.007022730518472571\n",
      "Prediction acc. on test data 9413\n",
      "MSE on training data =  0.006983292240394453\n",
      "Prediction acc. on test data 9407\n",
      "MSE on training data =  0.006945493032864727\n",
      "Prediction acc. on test data 9409\n",
      "MSE on training data =  0.006909579400262873\n",
      "Prediction acc. on test data 9408\n",
      "MSE on training data =  0.00687487656599037\n",
      "Prediction acc. on test data 9406\n",
      "MSE on training data =  0.006841215453829011\n",
      "Prediction acc. on test data 9403\n",
      "MSE on training data =  0.006808541394167255\n",
      "Prediction acc. on test data 9402\n",
      "MSE on training data =  0.006776722693903246\n",
      "Prediction acc. on test data 9406\n",
      "MSE on training data =  0.006746173847881328\n",
      "Prediction acc. on test data 9406\n",
      "MSE on training data =  0.006716712863002819\n",
      "Prediction acc. on test data 9406\n",
      "MSE on training data =  0.006686760919840391\n",
      "Prediction acc. on test data 9403\n",
      "MSE on training data =  0.006657089953015745\n",
      "Prediction acc. on test data 9402\n",
      "MSE on training data =  0.00662820103613748\n",
      "Prediction acc. on test data 9400\n",
      "MSE on training data =  0.006599716319119227\n",
      "Prediction acc. on test data 9403\n",
      "MSE on training data =  0.006571411074459173\n",
      "Prediction acc. on test data 9402\n",
      "MSE on training data =  0.006543159328862995\n",
      "Prediction acc. on test data 9403\n",
      "MSE on training data =  0.0065149529659701885\n",
      "Prediction acc. on test data 9403\n",
      "MSE on training data =  0.0064871246401588785\n",
      "Prediction acc. on test data 9401\n",
      "MSE on training data =  0.006459866453956221\n",
      "Prediction acc. on test data 9399\n",
      "MSE on training data =  0.006432725246375778\n",
      "Prediction acc. on test data 9397\n",
      "MSE on training data =  0.006405378140634275\n",
      "Prediction acc. on test data 9402\n",
      "MSE on training data =  0.006378409895722357\n",
      "Prediction acc. on test data 9401\n",
      "MSE on training data =  0.00635248825883064\n",
      "Prediction acc. on test data 9399\n",
      "MSE on training data =  0.006327764338518986\n",
      "Prediction acc. on test data 9400\n",
      "MSE on training data =  0.006304128492023657\n",
      "Prediction acc. on test data 9398\n",
      "MSE on training data =  0.006281423541902324\n",
      "Prediction acc. on test data 9396\n",
      "MSE on training data =  0.006259565272530544\n",
      "Prediction acc. on test data 9396\n",
      "MSE on training data =  0.006238399528964585\n",
      "Prediction acc. on test data 9397\n",
      "MSE on training data =  0.006217545001653984\n",
      "Prediction acc. on test data 9397\n",
      "MSE on training data =  0.006196668728133238\n",
      "Prediction acc. on test data 9395\n",
      "MSE on training data =  0.006175902168518276\n",
      "Prediction acc. on test data 9395\n",
      "MSE on training data =  0.006155411787704253\n",
      "Prediction acc. on test data 9395\n",
      "MSE on training data =  0.006135272845897157\n",
      "Prediction acc. on test data 9397\n",
      "MSE on training data =  0.006115464294419477\n",
      "Prediction acc. on test data 9399\n",
      "MSE on training data =  0.006095902744066486\n",
      "Prediction acc. on test data 9399\n",
      "MSE on training data =  0.00607650668363096\n",
      "Prediction acc. on test data 9399\n",
      "MSE on training data =  0.006057222343216981\n",
      "Prediction acc. on test data 9401\n",
      "MSE on training data =  0.006037989642823769\n",
      "Prediction acc. on test data 9400\n",
      "MSE on training data =  0.006018723543078093\n",
      "Prediction acc. on test data 9397\n"
     ]
    }
   ],
   "source": [
    "while err_cum>tol and iter<iterMax:# and err_cum_prev>err_cum:\n",
    "    iter=iter+1\n",
    "    # err_cum_prev=err_cum;\n",
    "    err_cum = 0.0;\n",
    "    for i in range(0,train_samples):\n",
    "        Delta2 = W2_b*0.0;\n",
    "        Delta3 = W3_b*0.0;\n",
    "        z2 = W2_b.dot(train_img_input[:,i].reshape(-1,1));\n",
    "        z2_b = np.vstack([np.ones((1,z2.shape[1])), z2]);\n",
    "        a2 = actFcn(z2);\n",
    "        a2_b = np.vstack([np.ones((1,a2.shape[1])), a2]);\n",
    "\n",
    "        z3 = W3_b.dot(a2_b);\n",
    "        a3 = actFcn(z3);\n",
    "\n",
    "        delta3 = np.multiply(a3 - train_lab_vec[:,i].reshape(-1,1),actFcnDer(z3))#if using MSE cost function\n",
    "        # delta3 = -(train_lab_vec[:,i].reshape(-1,1) - a3);#if using log cost function from Andrew Ng\n",
    "\n",
    "        delta2 = np.multiply(W3_b.T.dot(delta3), actFcnDer(z2_b));\n",
    "        delta2 = np.delete(delta2,0,0);\n",
    "\n",
    "        d3 = delta3.reshape(-1,1);\n",
    "        # ipdb.set_trace()\n",
    "        a2_b_vec = a2_b.reshape(-1,1);\n",
    "        Delta3 = Delta3 + d3.dot(a2_b_vec.T);\n",
    "        # ipdb.set_trace()\n",
    "\n",
    "        d2 = delta2.reshape(-1,1);\n",
    "        a1_b_vec = train_img_input[:,i].reshape(-1,1);\n",
    "        # Delta2 = Delta2 + d2.dot(a1_b_vec.T)/train_samples;#if using cumulative grad descent\n",
    "        Delta2 = Delta2 + d2.dot(a1_b_vec.T);#if using stochastic grad descent\n",
    "        # err_cum = err_cum + np.mean(np.multiply(delta3,delta3));#if using log cost function from Andrew Ng\n",
    "        W3_b = W3_b - eta*Delta3;\n",
    "        W2_b = W2_b - eta*Delta2;\n",
    "        err_cum = err_cum + np.mean(np.multiply((train_lab_vec[:,i].reshape(-1,1) - a3),(train_lab_vec[:,i].reshape(-1,1) - a3)));#if using MSE cost function\n",
    "    err_cum = err_cum/train_samples;\n",
    "    err_cum_arr = np.vstack([err_cum_arr,err_cum]);\n",
    "    print(\"MSE on training data = \",err_cum)\n",
    "    correct_pred_test=0;\n",
    "    for i in range(0,test_samples):\n",
    "        predicted_label = np.argmax(feedForward(test_img_input[:,i],W2_b,W3_b));\n",
    "        actual_label = test_lab[i];\n",
    "        if actual_label==predicted_label:\n",
    "            correct_pred_test = correct_pred_test + 1;\n",
    "    pred_acc_arr = np.vstack([pred_acc_arr, correct_pred_test]);\n",
    "    print(\"Prediction acc. on test data\",correct_pred_test)\n",
    "err_cum_arr = np.delete(err_cum_arr,0,0)\n",
    "pred_acc_arr = np.delete(pred_acc_arr,0,0)    "
   ]
  },
  {
   "cell_type": "markdown",
   "metadata": {},
   "source": [
    "Calculating prediction accuracy"
   ]
  },
  {
   "cell_type": "code",
   "execution_count": 13,
   "metadata": {},
   "outputs": [
    {
     "data": {
      "image/png": "[encoded data removed]",
      "text/plain": [
       "<Figure size 432x288 with 1 Axes>"
      ]
     },
     "metadata": {
      "needs_background": "light"
     },
     "output_type": "display_data"
    },
    {
     "data": {
      "image/png": "[encoded data removed]",
      "text/plain": [
       "<Figure size 432x288 with 1 Axes>"
      ]
     },
     "metadata": {
      "needs_background": "light"
     },
     "output_type": "display_data"
    }
   ],
   "source": [
    "plt.plot((np.arange(1,err_cum_arr.size+1,1)).T, err_cum_arr,'b')\n",
    "plt.xlabel('No. of Iterations/passes')\n",
    "plt.ylabel('MSE')\n",
    "plt.title('Backpropagation on training data')\n",
    "plt.rcParams.update({'font.size':25})\n",
    "plt.savefig('./train_err_sigmoid.png')\n",
    "plt.show()\n",
    "#plt.close()\n",
    "\n",
    "plt.plot((np.arange(1,pred_acc_arr.size+1,1)).T, pred_acc_arr/test_samples*100,'g')\n",
    "plt.xlabel('No. of passes on training data')\n",
    "plt.ylabel('Test prediction accuracy')\n",
    "plt.title('Test accuracy')\n",
    "plt.rcParams.update({'font.size':12})\n",
    "plt.savefig('./test_err_sigmoid.png')\n",
    "plt.show()\n",
    "#plt.close()\n",
    "\n"
   ]
  }
 ],
 "metadata": {
  "kernelspec": {
   "display_name": "Python 3",
   "language": "python",
   "name": "python3"
  },
  "language_info": {
   "codemirror_mode": {
    "name": "ipython",
    "version": 3
   },
   "file_extension": ".py",
   "mimetype": "text/x-python",
   "name": "python",
   "nbconvert_exporter": "python",
   "pygments_lexer": "ipython3",
   "version": "3.6.9"
  }
 },
 "nbformat": 4,
 "nbformat_minor": 4
}
