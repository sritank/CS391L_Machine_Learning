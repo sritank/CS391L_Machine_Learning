{
 "cells": [
  {
   "cell_type": "code",
   "execution_count": 1,
   "metadata": {},
   "outputs": [],
   "source": [
    "import csv\n",
    "import struct as st\n",
    "import numpy as np\n",
    "import keyboard\n",
    "import idx2numpy\n",
    "from PIL import Image\n",
    "from numpy import linalg as LA\n",
    "from numpy import matlib\n",
    "import sounddevice as sd\n",
    "import pickle as pkl\n",
    "import ipdb;\n",
    "from scipy.io import loadmat;\n",
    "from IPython.display import Audio\n",
    "import matplotlib.pyplot as plt\n",
    "import random\n",
    "import sys\n"
   ]
  },
  {
   "cell_type": "markdown",
   "metadata": {},
   "source": [
    "Defining the activation function and it's derivative (Sigmoid in this case)"
   ]
  },
  {
   "cell_type": "code",
   "execution_count": 2,
   "metadata": {},
   "outputs": [],
   "source": [
    "alpha=1;\n",
    "def actFcn(u):\n",
    "    return (1/(1+np.exp(-alpha*u)))\n",
    "\n",
    "\n",
    "def actFcnDer(u):\n",
    "    return (alpha*np.exp(-alpha*u)/(1+np.exp(-alpha*u))**2)"
   ]
  },
  {
   "cell_type": "markdown",
   "metadata": {},
   "source": [
    "Defining the Feedforward function assuming just one hidden layer"
   ]
  },
  {
   "cell_type": "code",
   "execution_count": 3,
   "metadata": {},
   "outputs": [],
   "source": [
    "def feedForward(u1,W2,W3):\n",
    "    act2 = actFcn(W2.dot(u1)).reshape(-1,1);\n",
    "    # ipdb.set_trace();\n",
    "    act2_b = np.vstack([np.ones((1,act2.shape[1])), act2])\n",
    "    return(actFcn(W3.dot(act2_b)));"
   ]
  },
  {
   "cell_type": "markdown",
   "metadata": {},
   "source": [
    "Reading training and test data"
   ]
  },
  {
   "cell_type": "code",
   "execution_count": 4,
   "metadata": {},
   "outputs": [],
   "source": [
    "train_img = idx2numpy.convert_from_file('train-images-idx3-ubyte');\n",
    "test_img = idx2numpy.convert_from_file('t10k-images-idx3-ubyte');\n",
    "train_lab = idx2numpy.convert_from_file('train-labels-idx1-ubyte');\n",
    "test_lab = idx2numpy.convert_from_file('t10k-labels-idx1-ubyte');\n",
    "L_train = train_img.shape[0];\n",
    "L_test = test_img.shape[0];\n",
    "train_img = train_img.reshape(L_train,28*28)/255; #Normalizing pixels from 255 -> 1\n",
    "test_img = test_img.reshape(L_test,28*28)/255; #Normalizing pixels from 255 -> 1\n",
    "train_img_input = np.vstack([np.ones((1,L_train)), train_img.T]);\n",
    "test_img_input = np.vstack([np.ones((1,L_test)), test_img.T]);\n",
    "train_lab = train_lab.reshape(-1,1)\n",
    "train_lab_vec = np.zeros(L_train*n3);\n",
    "cols = np.arange(0,L_train,1);\n",
    "cols = cols.reshape(-1,1);\n",
    "train_lab_vec[10*cols + train_lab]=1;\n",
    "train_lab_vec = (train_lab_vec.reshape(L_train,n3)).transpose();"
   ]
  },
  {
   "cell_type": "markdown",
   "metadata": {},
   "source": [
    "Initializing Weigths and number of neurons in diff. layers of network"
   ]
  },
  {
   "cell_type": "code",
   "execution_count": 9,
   "metadata": {},
   "outputs": [
    {
     "name": "stdout",
     "output_type": "stream",
     "text": [
      "MSE on training data =  0.04328578540299913\n",
      "Prediction acc. on test data 9002\n",
      "MSE on training data =  0.014186407232872187\n",
      "Prediction acc. on test data 9218\n",
      "MSE on training data =  0.012067437090434487\n",
      "Prediction acc. on test data 9276\n",
      "MSE on training data =  0.011108927886002522\n",
      "Prediction acc. on test data 9310\n",
      "MSE on training data =  0.010502445584247773\n",
      "Prediction acc. on test data 9334\n",
      "MSE on training data =  0.010070899882017712\n",
      "Prediction acc. on test data 9347\n",
      "MSE on training data =  0.009739125740381736\n",
      "Prediction acc. on test data 9359\n",
      "MSE on training data =  0.009466134452235812\n",
      "Prediction acc. on test data 9368\n",
      "MSE on training data =  0.009233508285191067\n",
      "Prediction acc. on test data 9381\n",
      "MSE on training data =  0.009033884689902884\n",
      "Prediction acc. on test data 9390\n",
      "MSE on training data =  0.008858078191169926\n",
      "Prediction acc. on test data 9391\n",
      "MSE on training data =  0.008700535663084484\n",
      "Prediction acc. on test data 9392\n",
      "MSE on training data =  0.00855953396359906\n",
      "Prediction acc. on test data 9395\n",
      "MSE on training data =  0.008431604907562309\n",
      "Prediction acc. on test data 9404\n",
      "MSE on training data =  0.008314602119666172\n",
      "Prediction acc. on test data 9413\n",
      "MSE on training data =  0.008207005905536703\n",
      "Prediction acc. on test data 9414\n",
      "MSE on training data =  0.008106918815105935\n",
      "Prediction acc. on test data 9409\n",
      "MSE on training data =  0.008013639967616443\n",
      "Prediction acc. on test data 9412\n",
      "MSE on training data =  0.007926524246581666\n",
      "Prediction acc. on test data 9411\n",
      "MSE on training data =  0.007844482871800992\n",
      "Prediction acc. on test data 9415\n",
      "MSE on training data =  0.007766367530194174\n",
      "Prediction acc. on test data 9417\n",
      "MSE on training data =  0.007692292019997148\n",
      "Prediction acc. on test data 9418\n",
      "MSE on training data =  0.007622541233895981\n",
      "Prediction acc. on test data 9410\n",
      "MSE on training data =  0.007556787807882506\n",
      "Prediction acc. on test data 9409\n",
      "MSE on training data =  0.00749438725968584\n",
      "Prediction acc. on test data 9411\n",
      "MSE on training data =  0.007435016555490704\n",
      "Prediction acc. on test data 9409\n",
      "MSE on training data =  0.007378311441422237\n",
      "Prediction acc. on test data 9411\n",
      "MSE on training data =  0.007323688587146534\n",
      "Prediction acc. on test data 9414\n",
      "MSE on training data =  0.007270754263514089\n",
      "Prediction acc. on test data 9409\n",
      "MSE on training data =  0.007219238623322924\n",
      "Prediction acc. on test data 9409\n",
      "MSE on training data =  0.007169426235454618\n",
      "Prediction acc. on test data 9407\n",
      "MSE on training data =  0.007121426947391189\n",
      "Prediction acc. on test data 9405\n",
      "MSE on training data =  0.007075162383909134\n",
      "Prediction acc. on test data 9406\n",
      "MSE on training data =  0.007029983391578324\n",
      "Prediction acc. on test data 9405\n",
      "MSE on training data =  0.00698486161691366\n",
      "Prediction acc. on test data 9408\n",
      "MSE on training data =  0.006939689738912757\n",
      "Prediction acc. on test data 9405\n",
      "MSE on training data =  0.006895191753273927\n",
      "Prediction acc. on test data 9400\n",
      "MSE on training data =  0.006855461246748007\n",
      "Prediction acc. on test data 9401\n",
      "MSE on training data =  0.006814849715929203\n",
      "Prediction acc. on test data 9398\n",
      "MSE on training data =  0.006774145412051988\n",
      "Prediction acc. on test data 9405\n",
      "MSE on training data =  0.006734877717647787\n",
      "Prediction acc. on test data 9406\n",
      "MSE on training data =  0.006697647064372739\n",
      "Prediction acc. on test data 9408\n",
      "MSE on training data =  0.006661953473302729\n",
      "Prediction acc. on test data 9407\n",
      "MSE on training data =  0.006627922951544857\n",
      "Prediction acc. on test data 9406\n",
      "MSE on training data =  0.0065950307283919\n",
      "Prediction acc. on test data 9403\n",
      "MSE on training data =  0.006562491086083899\n",
      "Prediction acc. on test data 9399\n",
      "MSE on training data =  0.006530457195978717\n",
      "Prediction acc. on test data 9400\n",
      "MSE on training data =  0.006499153405662567\n",
      "Prediction acc. on test data 9401\n",
      "MSE on training data =  0.006468369550566808\n",
      "Prediction acc. on test data 9402\n",
      "MSE on training data =  0.006438408619475371\n",
      "Prediction acc. on test data 9404\n",
      "MSE on training data =  0.006410017907823862\n",
      "Prediction acc. on test data 9406\n",
      "MSE on training data =  0.006382871759806638\n",
      "Prediction acc. on test data 9403\n",
      "MSE on training data =  0.006356611020949153\n",
      "Prediction acc. on test data 9403\n",
      "MSE on training data =  0.006331081315164984\n",
      "Prediction acc. on test data 9402\n",
      "MSE on training data =  0.006306209435994316\n",
      "Prediction acc. on test data 9401\n",
      "MSE on training data =  0.006281939506196088\n",
      "Prediction acc. on test data 9402\n",
      "MSE on training data =  0.006258301484753463\n",
      "Prediction acc. on test data 9400\n",
      "MSE on training data =  0.006235229044509377\n",
      "Prediction acc. on test data 9401\n",
      "MSE on training data =  0.006212388348558613\n",
      "Prediction acc. on test data 9403\n",
      "MSE on training data =  0.006189380023746256\n",
      "Prediction acc. on test data 9405\n",
      "MSE on training data =  0.006166260373846536\n",
      "Prediction acc. on test data 9405\n",
      "MSE on training data =  0.006143255995365121\n",
      "Prediction acc. on test data 9405\n",
      "MSE on training data =  0.006120573843288401\n",
      "Prediction acc. on test data 9403\n",
      "MSE on training data =  0.006098274453026585\n",
      "Prediction acc. on test data 9401\n",
      "MSE on training data =  0.006076348795807695\n",
      "Prediction acc. on test data 9401\n",
      "MSE on training data =  0.006055152004667367\n",
      "Prediction acc. on test data 9403\n",
      "MSE on training data =  0.006034753105014011\n",
      "Prediction acc. on test data 9404\n",
      "MSE on training data =  0.006014873903545747\n",
      "Prediction acc. on test data 9404\n",
      "MSE on training data =  0.005995054708297005\n",
      "Prediction acc. on test data 9403\n"
     ]
    }
   ],
   "source": [
    "n1 = train_img.shape[1];\n",
    "n3=10;\n",
    "eta=5e-2;\n",
    "tol = 6e-3;\n",
    "err_cum_arr = 0;\n",
    "maxIter=10\n",
    "for n2 in np.arange(3,19,4):\n",
    "    W2_b = np.random.rand(n2, n1+1)*1e-2;\n",
    "    W2 = W2_b[:,1:];\n",
    "    W3_b = np.random.rand(n3, n2+1)*1e-2;\n",
    "    W3 = W3_b[:,1:];\n",
    "    err_cum = tol*1e3;\n",
    "    pred_acc_arr = 0;\n",
    "    err_cum_prev=err_cum*1e3;\n",
    "    train_samples = 60000;\n",
    "    test_samples = 10000;\n",
    "    iter=0;\n",
    "    while err_cum>tol and iter<iterMax:# and err_cum_prev>err_cum:\n",
    "        iter = iter+1;\n",
    "        # err_cum_prev=err_cum;\n",
    "        err_cum = 0.0;\n",
    "        for i in range(0,train_samples):\n",
    "            Delta2 = W2_b*0.0;\n",
    "            Delta3 = W3_b*0.0;\n",
    "            z2 = W2_b.dot(train_img_input[:,i].reshape(-1,1));\n",
    "            z2_b = np.vstack([np.ones((1,z2.shape[1])), z2]);\n",
    "            a2 = actFcn(z2);\n",
    "            a2_b = np.vstack([np.ones((1,a2.shape[1])), a2]);\n",
    "\n",
    "            z3 = W3_b.dot(a2_b);\n",
    "            a3 = actFcn(z3);\n",
    "\n",
    "            delta3 = np.multiply(a3 - train_lab_vec[:,i].reshape(-1,1),actFcnDer(z3))#if using MSE cost function\n",
    "            # delta3 = -(train_lab_vec[:,i].reshape(-1,1) - a3);#if using log cost function from Andrew Ng\n",
    "\n",
    "            delta2 = np.multiply(W3_b.T.dot(delta3), actFcnDer(z2_b));\n",
    "            delta2 = np.delete(delta2,0,0);\n",
    "\n",
    "            d3 = delta3.reshape(-1,1);\n",
    "            # ipdb.set_trace()\n",
    "            a2_b_vec = a2_b.reshape(-1,1);\n",
    "            Delta3 = Delta3 + d3.dot(a2_b_vec.T);\n",
    "            # ipdb.set_trace()\n",
    "\n",
    "            d2 = delta2.reshape(-1,1);\n",
    "            a1_b_vec = train_img_input[:,i].reshape(-1,1);\n",
    "            # Delta2 = Delta2 + d2.dot(a1_b_vec.T)/train_samples;#if using cumulative grad descent\n",
    "            Delta2 = Delta2 + d2.dot(a1_b_vec.T);#if using stochastic grad descent\n",
    "            # err_cum = err_cum + np.mean(np.multiply(delta3,delta3));#if using log cost function from Andrew Ng\n",
    "            W3_b = W3_b - eta*Delta3;\n",
    "            W2_b = W2_b - eta*Delta2;\n",
    "            err_cum = err_cum + np.mean(np.multiply((train_lab_vec[:,i].reshape(-1,1) - a3),(train_lab_vec[:,i].reshape(-1,1) - a3)));#if using MSE cost function\n",
    "        err_cum = err_cum/train_samples;\n",
    "        err_cum_arr = np.vstack([err_cum_arr,err_cum]);\n",
    "        print(\"MSE on training data = \",err_cum)\n",
    "        correct_pred_test=0;\n",
    "        for i in range(0,test_samples):\n",
    "            predicted_label = np.argmax(feedForward(test_img_input[:,i],W2_b,W3_b));\n",
    "            actual_label = test_lab[i];\n",
    "            if actual_label==predicted_label:\n",
    "                correct_pred_test = correct_pred_test + 1;\n",
    "        pred_acc_arr = np.vstack([pred_acc_arr, correct_pred_test]);\n",
    "        print(\"Prediction acc. on test data\",correct_pred_test)\n",
    "    "
   ]
  },
  {
   "cell_type": "markdown",
   "metadata": {},
   "source": [
    "Calculating prediction accuracy"
   ]
  },
  {
   "cell_type": "code",
   "execution_count": 10,
   "metadata": {},
   "outputs": [
    {
     "data": {
      "image/png": "[encoded data removed]",
      "text/plain": [
       "<Figure size 432x288 with 1 Axes>"
      ]
     },
     "metadata": {
      "needs_background": "light"
     },
     "output_type": "display_data"
    },
    {
     "data": {
      "image/png": "[encoded data removed]",
      "text/plain": [
       "<Figure size 432x288 with 1 Axes>"
      ]
     },
     "metadata": {
      "needs_background": "light"
     },
     "output_type": "display_data"
    }
   ],
   "source": [
    "err_cum_arr = np.delete(err_cum_arr,0,0)\n",
    "pred_acc_arr = np.delete(pred_acc_arr,0,0)\n",
    "plt.plot(err_cum_arr,'b')\n",
    "plt.xlabel('No. of Iterations/passes')\n",
    "plt.ylabel('MSE')\n",
    "plt.title('Backpropagation on training data')\n",
    "plt.rcParams.update({'font.size':25})\n",
    "plt.savefig('./train_err_sigmoid.png')\n",
    "plt.show()\n",
    "#plt.close()\n",
    "\n",
    "plt.plot(pred_acc_arr/test_samples*100,'g')\n",
    "plt.xlabel('No. of passes on training data')\n",
    "plt.ylabel('Test prediction accuracy')\n",
    "plt.title('Test accuracy')\n",
    "plt.rcParams.update({'font.size':12})\n",
    "plt.savefig('./test_err_sigmoid.png')\n",
    "plt.show()\n",
    "#plt.close()\n",
    "\n"
   ]
  },
  {
   "cell_type": "code",
   "execution_count": null,
   "metadata": {},
   "outputs": [],
   "source": []
  },
  {
   "cell_type": "code",
   "execution_count": null,
   "metadata": {},
   "outputs": [],
   "source": []
  }
 ],
 "metadata": {
  "kernelspec": {
   "display_name": "Python 3",
   "language": "python",
   "name": "python3"
  },
  "language_info": {
   "codemirror_mode": {
    "name": "ipython",
    "version": 3
   },
   "file_extension": ".py",
   "mimetype": "text/x-python",
   "name": "python",
   "nbconvert_exporter": "python",
   "pygments_lexer": "ipython3",
   "version": "3.6.9"
  }
 },
 "nbformat": 4,
 "nbformat_minor": 4
}
