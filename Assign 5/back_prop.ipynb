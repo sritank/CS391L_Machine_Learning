{
 "cells": [
  {
   "cell_type": "code",
   "execution_count": 1,
   "metadata": {},
   "outputs": [],
   "source": [
    "import csv\n",
    "import struct as st\n",
    "import numpy as np\n",
    "import keyboard\n",
    "import idx2numpy\n",
    "from PIL import Image\n",
    "from numpy import linalg as LA\n",
    "from numpy import matlib\n",
    "import sounddevice as sd\n",
    "import pickle as pkl\n",
    "import ipdb;\n",
    "from scipy.io import loadmat;\n",
    "from IPython.display import Audio\n",
    "import matplotlib.pyplot as plt\n",
    "import random\n",
    "import sys\n"
   ]
  },
  {
   "cell_type": "markdown",
   "metadata": {},
   "source": [
    "Defining the activation function and it's derivative (Sigmoid in this case)"
   ]
  },
  {
   "cell_type": "code",
   "execution_count": 2,
   "metadata": {},
   "outputs": [],
   "source": [
    "alpha=1;\n",
    "def actFcn(u):\n",
    "    return (1/(1+np.exp(-alpha*u)))\n",
    "\n",
    "\n",
    "def actFcnDer(u):\n",
    "    return (alpha*np.exp(-alpha*u)/(1+np.exp(-alpha*u))**2)"
   ]
  },
  {
   "cell_type": "markdown",
   "metadata": {},
   "source": [
    "Defining the Feedforward function assuming just one hidden layer"
   ]
  },
  {
   "cell_type": "code",
   "execution_count": 3,
   "metadata": {},
   "outputs": [],
   "source": [
    "def feedForward(u1,W2,W3):\n",
    "    act2 = actFcn(W2.dot(u1)).reshape(-1,1);\n",
    "    # ipdb.set_trace();\n",
    "    act2_b = np.vstack([np.ones((1,act2.shape[1])), act2])\n",
    "    return(actFcn(W3.dot(act2_b)));"
   ]
  },
  {
   "cell_type": "markdown",
   "metadata": {},
   "source": [
    "Reading training and test data"
   ]
  },
  {
   "cell_type": "code",
   "execution_count": 4,
   "metadata": {},
   "outputs": [],
   "source": [
    "train_img = idx2numpy.convert_from_file('train-images-idx3-ubyte');\n",
    "test_img = idx2numpy.convert_from_file('t10k-images-idx3-ubyte');\n",
    "train_lab = idx2numpy.convert_from_file('train-labels-idx1-ubyte');\n",
    "test_lab = idx2numpy.convert_from_file('t10k-labels-idx1-ubyte');\n",
    "L_train = train_img.shape[0];\n",
    "L_test = test_img.shape[0];\n",
    "train_img = train_img.reshape(L_train,28*28)/255; #Normalizing pixels from 255 -> 1\n",
    "test_img = test_img.reshape(L_test,28*28)/255; #Normalizing pixels from 255 -> 1"
   ]
  },
  {
   "cell_type": "markdown",
   "metadata": {},
   "source": [
    "Initializing Weigths and number of neurons in diff. layers of network"
   ]
  },
  {
   "cell_type": "code",
   "execution_count": 5,
   "metadata": {},
   "outputs": [],
   "source": [
    "n2 = 15;\n",
    "n1 = train_img.shape[1];\n",
    "n3=10;\n",
    "W2_b = np.random.rand(n2, n1+1)*1e-2;\n",
    "W2 = W2_b[:,1:];\n",
    "W3_b = np.random.rand(n3, n2+1)*1e-2;\n",
    "W3 = W3_b[:,1:];"
   ]
  },
  {
   "cell_type": "markdown",
   "metadata": {},
   "source": [
    "Adding bias term to input data"
   ]
  },
  {
   "cell_type": "code",
   "execution_count": 6,
   "metadata": {},
   "outputs": [],
   "source": [
    "train_img_input = np.vstack([np.ones((1,L_train)), train_img.T]);\n",
    "test_img_input = np.vstack([np.ones((1,L_test)), test_img.T]);"
   ]
  },
  {
   "cell_type": "markdown",
   "metadata": {},
   "source": [
    "converting digit label to vector label, i.e 1=[0,1,0,...0]', 5=[0,0,0,0,0,1,0,0,0,0]', etc."
   ]
  },
  {
   "cell_type": "code",
   "execution_count": 7,
   "metadata": {},
   "outputs": [],
   "source": [
    "train_lab = train_lab.reshape(-1,1)\n",
    "train_lab_vec = np.zeros(L_train*n3);\n",
    "cols = np.arange(0,L_train,1);\n",
    "cols = cols.reshape(-1,1);\n",
    "train_lab_vec[10*cols + train_lab]=1;\n",
    "train_lab_vec = (train_lab_vec.reshape(L_train,n3)).transpose();"
   ]
  },
  {
   "cell_type": "markdown",
   "metadata": {},
   "source": [
    "Defining training and test parameters"
   ]
  },
  {
   "cell_type": "code",
   "execution_count": 8,
   "metadata": {},
   "outputs": [],
   "source": [
    "eta=5e-2;\n",
    "tol = 6e-3;\n",
    "err_cum = tol*1e3;\n",
    "# err_cum_arr = 0;\n",
    "# pred_acc_arr = 0;\n",
    "err_cum_prev=err_cum*1e3;\n",
    "train_samples = 60000;\n",
    "test_samples = 10000;\n",
    "iterMax=20;\n",
    "iter=0;\n",
    "correct_pred_test=0;\n",
    "for i in range(0,test_samples):\n",
    "    predicted_label = np.argmax(feedForward(test_img_input[:,i],W2_b,W3_b));\n",
    "    actual_label = test_lab[i];\n",
    "    if actual_label==predicted_label:\n",
    "        correct_pred_test = correct_pred_test + 1;\n",
    "\n",
    "pred_acc_arr = correct_pred_test\n",
    "\n",
    "err_cum = 0.0;\n",
    "for i in range(0,test_samples):    \n",
    "    z2 = W2_b.dot(train_img_input[:,i].reshape(-1,1));\n",
    "    z2_b = np.vstack([np.ones((1,z2.shape[1])), z2]);\n",
    "    a2 = actFcn(z2);\n",
    "    a2_b = np.vstack([np.ones((1,a2.shape[1])), a2]);\n",
    "\n",
    "    z3 = W3_b.dot(a2_b);\n",
    "    a3 = actFcn(z3);\n",
    "    delta3 = -(train_lab_vec[:,i].reshape(-1,1) - a3);\n",
    "    err_cum = err_cum + np.mean(np.multiply(delta3,delta3));\n",
    "err_cum = err_cum/train_samples;\n",
    "err_cum_arr = err_cum;    \n",
    "\n",
    "\n",
    "err_cum = tol*1e3;"
   ]
  },
  {
   "cell_type": "markdown",
   "metadata": {},
   "source": [
    "Using Stochastic Gradient Descent"
   ]
  },
  {
   "cell_type": "code",
   "execution_count": 9,
   "metadata": {},
   "outputs": [
    {
     "name": "stdout",
     "output_type": "stream",
     "text": [
      "MSE on training data =  0.043491280322249845\n",
      "Prediction acc. on test data 9032\n",
      "MSE on training data =  0.01417447128051836\n",
      "Prediction acc. on test data 9168\n",
      "MSE on training data =  0.012234806117955313\n",
      "Prediction acc. on test data 9224\n",
      "MSE on training data =  0.011268377904794489\n",
      "Prediction acc. on test data 9260\n",
      "MSE on training data =  0.01062923246208867\n",
      "Prediction acc. on test data 9299\n",
      "MSE on training data =  0.01017510630249852\n",
      "Prediction acc. on test data 9319\n",
      "MSE on training data =  0.009829555871235574\n",
      "Prediction acc. on test data 9332\n",
      "MSE on training data =  0.009543436558769733\n",
      "Prediction acc. on test data 9340\n",
      "MSE on training data =  0.009303600117711709\n",
      "Prediction acc. on test data 9347\n",
      "MSE on training data =  0.009100680361133012\n",
      "Prediction acc. on test data 9364\n",
      "MSE on training data =  0.008924229841066956\n",
      "Prediction acc. on test data 9369\n",
      "MSE on training data =  0.008768307600459142\n",
      "Prediction acc. on test data 9363\n",
      "MSE on training data =  0.008629146794243769\n",
      "Prediction acc. on test data 9370\n",
      "MSE on training data =  0.008502191792304032\n",
      "Prediction acc. on test data 9380\n",
      "MSE on training data =  0.008383264910452468\n",
      "Prediction acc. on test data 9385\n",
      "MSE on training data =  0.008272141314540878\n",
      "Prediction acc. on test data 9385\n",
      "MSE on training data =  0.00816873308021023\n",
      "Prediction acc. on test data 9389\n",
      "MSE on training data =  0.008071683578295871\n",
      "Prediction acc. on test data 9394\n",
      "MSE on training data =  0.00797948421131938\n",
      "Prediction acc. on test data 9393\n",
      "MSE on training data =  0.007891800154514088\n",
      "Prediction acc. on test data 9397\n"
     ]
    }
   ],
   "source": [
    "while err_cum>tol and iter<iterMax:# and err_cum_prev>err_cum:# if using Ng's method\n",
    "    iter=iter+1\n",
    "    # err_cum_prev=err_cum;# if using Ng's method\n",
    "    err_cum = 0.0;\n",
    "    for i in range(0,train_samples):\n",
    "        Delta2 = W2_b*0.0;\n",
    "        Delta3 = W3_b*0.0;\n",
    "        z2 = W2_b.dot(train_img_input[:,i].reshape(-1,1));\n",
    "        z2_b = np.vstack([np.ones((1,z2.shape[1])), z2]);\n",
    "        a2 = actFcn(z2);\n",
    "        a2_b = np.vstack([np.ones((1,a2.shape[1])), a2]);\n",
    "\n",
    "        z3 = W3_b.dot(a2_b);\n",
    "        a3 = actFcn(z3);\n",
    "\n",
    "        delta3 = np.multiply(a3 - train_lab_vec[:,i].reshape(-1,1),actFcnDer(z3))#if using MSE cost function\n",
    "        # delta3 = -(train_lab_vec[:,i].reshape(-1,1) - a3);#if using log cost function from Andrew Ng\n",
    "\n",
    "        delta2 = np.multiply(W3_b.T.dot(delta3), actFcnDer(z2_b));\n",
    "        delta2 = np.delete(delta2,0,0);\n",
    "\n",
    "        d3 = delta3.reshape(-1,1);\n",
    "        # ipdb.set_trace()\n",
    "        a2_b_vec = a2_b.reshape(-1,1);\n",
    "        Delta3 = Delta3 + d3.dot(a2_b_vec.T);\n",
    "        # ipdb.set_trace()\n",
    "\n",
    "        d2 = delta2.reshape(-1,1);\n",
    "        a1_b_vec = train_img_input[:,i].reshape(-1,1);\n",
    "        # Delta2 = Delta2 + d2.dot(a1_b_vec.T)/train_samples;#if using cumulative grad descent\n",
    "        Delta2 = Delta2 + d2.dot(a1_b_vec.T);#if using stochastic grad descent\n",
    "        # err_cum = err_cum + np.mean(np.multiply(delta3,delta3));#if using log cost function from Andrew Ng\n",
    "        W3_b = W3_b - eta*Delta3;#if using stochastic grad descent\n",
    "        W2_b = W2_b - eta*Delta2;#if using stochastic grad descent\n",
    "        err_cum = err_cum + np.mean(np.multiply((train_lab_vec[:,i].reshape(-1,1) - a3),(train_lab_vec[:,i].reshape(-1,1) - a3)));#if using MSE cost function\n",
    "    err_cum = err_cum/train_samples;\n",
    "    err_cum_arr = np.vstack([err_cum_arr,err_cum]);\n",
    "    print(\"MSE on training data = \",err_cum)\n",
    "    correct_pred_test=0;\n",
    "    for i in range(0,test_samples):\n",
    "        predicted_label = np.argmax(feedForward(test_img_input[:,i],W2_b,W3_b));\n",
    "        actual_label = test_lab[i];\n",
    "        if actual_label==predicted_label:\n",
    "            correct_pred_test = correct_pred_test + 1;\n",
    "    pred_acc_arr = np.vstack([pred_acc_arr, correct_pred_test]);\n",
    "    print(\"Prediction acc. on test data\",correct_pred_test)\n",
    "# err_cum_arr = np.delete(err_cum_arr,0,0)\n",
    "# pred_acc_arr = np.delete(pred_acc_arr,0,0)    "
   ]
  },
  {
   "cell_type": "markdown",
   "metadata": {},
   "source": [
    "Calculating prediction accuracy"
   ]
  },
  {
   "cell_type": "code",
   "execution_count": 20,
   "metadata": {},
   "outputs": [
    {
     "data": {
      "image/png": "[encoded data removed]",
      "text/plain": [
       "<Figure size 432x288 with 1 Axes>"
      ]
     },
     "metadata": {
      "needs_background": "light"
     },
     "output_type": "display_data"
    },
    {
     "data": {
      "image/png": "[encoded data removed]",
      "text/plain": [
       "<Figure size 432x288 with 1 Axes>"
      ]
     },
     "metadata": {
      "needs_background": "light"
     },
     "output_type": "display_data"
    }
   ],
   "source": [
    "plt.rcParams.update({'font.size':17})\n",
    "plt.rcParams.update({'savefig.dpi':600})\n",
    "plt.plot((np.arange(0,err_cum_arr.size-1,1)).T, err_cum_arr[1:],'o-b')\n",
    "plt.xlabel('No. of Iterations/passes')\n",
    "plt.ylabel('MSE')\n",
    "# plt.xlim([0.5,iterMax+5]);\n",
    "plt.title('Backpropagation on training data')\n",
    "plt.tight_layout()\n",
    "plt.savefig('./train_err_sigmoid.png')\n",
    "plt.show()\n",
    "#plt.close()\n",
    "\n",
    "plt.rcParams.update({'font.size':17})\n",
    "plt.rcParams.update({'savefig.dpi':600})\n",
    "plt.plot((np.arange(0,pred_acc_arr.size,1)).T, pred_acc_arr/test_samples*100,'o-g')\n",
    "plt.xlabel('No. of passes on training data')\n",
    "plt.ylabel('Test prediction accuracy (%)')\n",
    "# plt.xlim([0.5,iterMax+5]);\n",
    "plt.title('Test accuracy')\n",
    "plt.tight_layout()\n",
    "plt.savefig('./test_err_sigmoid.png')\n",
    "plt.show()\n",
    "#plt.close()\n",
    "\n"
   ]
  },
  {
   "cell_type": "code",
   "execution_count": null,
   "metadata": {},
   "outputs": [],
   "source": []
  }
 ],
 "metadata": {
  "kernelspec": {
   "display_name": "Python 3",
   "language": "python",
   "name": "python3"
  },
  "language_info": {
   "codemirror_mode": {
    "name": "ipython",
    "version": 3
   },
   "file_extension": ".py",
   "mimetype": "text/x-python",
   "name": "python",
   "nbconvert_exporter": "python",
   "pygments_lexer": "ipython3",
   "version": "3.6.9"
  }
 },
 "nbformat": 4,
 "nbformat_minor": 4
}
